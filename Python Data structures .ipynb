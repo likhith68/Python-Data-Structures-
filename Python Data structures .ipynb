{
 "cells": [
  {
   "cell_type": "code",
   "execution_count": 3,
   "id": "7fefee51",
   "metadata": {},
   "outputs": [
    {
     "name": "stdout",
     "output_type": "stream",
     "text": [
      "Enter the file nameromeo.txt\n",
      "['Arise', 'But', 'It', 'Juliet', 'Who', 'already', 'and', 'breaks', 'east', 'envious', 'fair', 'grief', 'is', 'kill', 'light', 'moon', 'pale', 'sick', 'soft', 'sun', 'the', 'through', 'what', 'window', 'with', 'yonder']\n"
     ]
    }
   ],
   "source": [
    "fname=input(\"Enter the file name\")\n",
    "fh=open(fname)\n",
    "lst=list()\n",
    "for line in fh:\n",
    "    a=line.rstrip().split()\n",
    "    for i in a:\n",
    "        if i in lst:\n",
    "            continue\n",
    "        else:\n",
    "            lst.append(i)\n",
    "            \n",
    "print(sorted(lst))"
   ]
  },
  {
   "cell_type": "code",
   "execution_count": 7,
   "id": "814dcb76",
   "metadata": {},
   "outputs": [
    {
     "name": "stdout",
     "output_type": "stream",
     "text": [
      "Enter the name of the file :mbox-short.txt\n",
      "stephen.marquard@uct.ac.za\n",
      "louis@media.berkeley.edu\n",
      "zqian@umich.edu\n",
      "rjlowe@iupui.edu\n",
      "zqian@umich.edu\n",
      "rjlowe@iupui.edu\n",
      "cwen@iupui.edu\n",
      "cwen@iupui.edu\n",
      "gsilver@umich.edu\n",
      "gsilver@umich.edu\n",
      "zqian@umich.edu\n",
      "gsilver@umich.edu\n",
      "wagnermr@iupui.edu\n",
      "zqian@umich.edu\n",
      "antranig@caret.cam.ac.uk\n",
      "gopal.ramasammycook@gmail.com\n",
      "david.horwitz@uct.ac.za\n",
      "david.horwitz@uct.ac.za\n",
      "david.horwitz@uct.ac.za\n",
      "david.horwitz@uct.ac.za\n",
      "stephen.marquard@uct.ac.za\n",
      "louis@media.berkeley.edu\n",
      "louis@media.berkeley.edu\n",
      "ray@media.berkeley.edu\n",
      "cwen@iupui.edu\n",
      "cwen@iupui.edu\n",
      "cwen@iupui.edu\n",
      "There were 27 lines in the file with From as the first word\n"
     ]
    }
   ],
   "source": [
    "fname=input(\"Enter the name of the file :\")\n",
    "fh=open(fname)\n",
    "cnt=0\n",
    "for line in fh:\n",
    "    a=line.rstrip\n",
    "    if line.startswith(\"From \"):\n",
    "        b=line.split()\n",
    "        print(b[1])\n",
    "        cnt=cnt+1\n",
    "    else:\n",
    "        continue\n",
    "print(f\"There were {cnt} lines in the file with From as the first word\")     "
   ]
  },
  {
   "cell_type": "code",
   "execution_count": 17,
   "id": "6c2f9422",
   "metadata": {},
   "outputs": [
    {
     "name": "stdout",
     "output_type": "stream",
     "text": [
      "Enter the file name:mbox-short.txt\n",
      "cwen@iupui.edu 5\n"
     ]
    }
   ],
   "source": [
    "fname=input(\"Enter the file name:\")\n",
    "fh=open(fname)\n",
    "lulu=dict()\n",
    "biggestv=0\n",
    "biggestk=0\n",
    "for line in fh:\n",
    "    a=line.rstrip\n",
    "    if line.startswith(\"From \"):\n",
    "        b=line.split()\n",
    "        wnt=b[1]\n",
    "        lulu[wnt]=lulu.get(wnt,0)+1\n",
    "    else:\n",
    "        continue\n",
    "for v,k in lulu.items():\n",
    "    if k>biggestk:\n",
    "        biggestv=v\n",
    "        biggestk=k\n",
    "    else:\n",
    "        continue\n",
    "print(biggestv,biggestk)"
   ]
  },
  {
   "cell_type": "code",
   "execution_count": 28,
   "id": "adee44ec",
   "metadata": {},
   "outputs": [
    {
     "name": "stdout",
     "output_type": "stream",
     "text": [
      "Enter the file name:mbox-short.txt\n",
      "04 3\n",
      "06 1\n",
      "07 1\n",
      "09 2\n",
      "10 3\n",
      "11 6\n",
      "14 1\n",
      "15 2\n",
      "16 4\n",
      "17 2\n",
      "18 1\n",
      "19 1\n"
     ]
    }
   ],
   "source": [
    "fname=input(\"Enter the file name:\")\n",
    "fh=open(fname)\n",
    "hehe=list()\n",
    "lulu=dict()\n",
    "for line in fh:\n",
    "    a=line.rsplit()\n",
    "    if line.startswith(\"From \"):\n",
    "        b=line.split()\n",
    "        wnt=b[5]\n",
    "        hour=wnt[:2]\n",
    "        lulu[hour]=lulu.get(hour,0)+1\n",
    "    else:\n",
    "        continue\n",
    "\n",
    "for v,k in sorted(lulu.items()):\n",
    "    print(v,k)"
   ]
  },
  {
   "cell_type": "code",
   "execution_count": null,
   "id": "fb7ada59",
   "metadata": {},
   "outputs": [],
   "source": []
  }
 ],
 "metadata": {
  "kernelspec": {
   "display_name": "Python 3",
   "language": "python",
   "name": "python3"
  },
  "language_info": {
   "codemirror_mode": {
    "name": "ipython",
    "version": 3
   },
   "file_extension": ".py",
   "mimetype": "text/x-python",
   "name": "python",
   "nbconvert_exporter": "python",
   "pygments_lexer": "ipython3",
   "version": "3.8.8"
  }
 },
 "nbformat": 4,
 "nbformat_minor": 5
}
